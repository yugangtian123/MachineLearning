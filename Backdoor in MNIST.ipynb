{
 "cells": [
  {
   "cell_type": "code",
   "execution_count": 1,
   "metadata": {},
   "outputs": [],
   "source": [
    "import torch\n",
    "import numpy as np\n",
    "\n",
    "from torchvision import datasets, transforms\n",
    "from torch import nn, optim\n",
    "from torch.nn import functional as F\n",
    "import os\n",
    "import torch\n",
    "from tqdm import tqdm_notebook as tqdm\n",
    "from PIL import Image\n",
    "import matplotlib.pyplot as plt"
   ]
  },
  {
   "cell_type": "code",
   "execution_count": 2,
   "metadata": {},
   "outputs": [],
   "source": [
    "device = torch.device(\"cuda\")"
   ]
  },
  {
   "cell_type": "code",
   "execution_count": 3,
   "metadata": {},
   "outputs": [
    {
     "data": {
      "text/plain": [
       "device(type='cuda')"
      ]
     },
     "execution_count": 3,
     "metadata": {},
     "output_type": "execute_result"
    }
   ],
   "source": [
    "device"
   ]
  },
  {
   "cell_type": "code",
   "execution_count": 4,
   "metadata": {},
   "outputs": [],
   "source": [
    "\n",
    "class MNISTModel(nn.Module):\n",
    "    def __init__(self):\n",
    "        super(MNISTModel, self).__init__()\n",
    "        self.conv1 = nn.Conv2d(1, 10, kernel_size=5, stride=2)\n",
    "        self.conv2 = nn.Conv2d(10, 20, kernel_size=5, stride=2)\n",
    "        \n",
    "        self.conv2_drop = nn.Dropout2d()\n",
    "\n",
    "        self.fc1 = nn.Linear(320, 50)\n",
    "        self.fc2 = nn.Linear(50, 10)\n",
    "\n",
    "    def forward(self, x):\n",
    "        x = F.relu(self.conv1(x))\n",
    "        x = F.relu(self.conv2(x))\n",
    "        x = x.view(-1, 320)\n",
    "        x = F.relu(self.fc1(x))\n",
    "        x = self.fc2(x)\n",
    "\n",
    "        return F.log_softmax(x, dim=1)\n",
    "    def get_fc1(self, x):\n",
    "        x = F.relu(self.conv1(x))\n",
    "        x = F.relu(self.conv2(x))\n",
    "        x = x.view(-1, 320)\n",
    "        x = F.relu(self.fc1(x))\n",
    "        return x\n",
    "    \n",
    "    def get_fc2(self, x):\n",
    "        x = F.relu(self.conv1(x))\n",
    "        x = F.relu(self.conv2(x))\n",
    "        x = x.view(-1, 320)\n",
    "        x = F.relu(self.fc1(x))\n",
    "        x = self.fc2(x)\n",
    "        return x\n",
    "    \n",
    "    def get_conv2(self, x):\n",
    "        x = F.relu(self.conv1(x))\n",
    "        x = F.relu(self.conv2(x))\n",
    "        #x = x.view(-1, 20)\n",
    "        return x\n",
    "    \n",
    "model = MNISTModel().to(device)"
   ]
  },
  {
   "cell_type": "code",
   "execution_count": 5,
   "metadata": {},
   "outputs": [],
   "source": [
    "\n",
    "def train(epoch, model, device, train_loader,optimizer, interval):\n",
    "    losses = []\n",
    "    correct = 0\n",
    "    for batch_idx, (data, target) in enumerate(tqdm(train_loader,leave=False)):\n",
    "        data, target = data.to(device), target.to(device)\n",
    "        optimizer.zero_grad()\n",
    "        output = model(data)\n",
    "        loss = F.nll_loss(output, target)\n",
    "        losses.append(loss.item())\n",
    "        loss.backward()\n",
    "        optimizer.step()\n",
    "        pred = output.max(1, keepdim=True)[1] # get the index of the max log-probability\n",
    "        correct += pred.eq(target.view_as(pred)).sum().item()\n",
    "\n",
    "        if batch_idx % interval == 0:\n",
    "            print('Train Epoch: {} [{}/{} ({:.0f}%)]\\tLoss: {:.6f}'.format(\n",
    "                epoch, batch_idx * len(data), len(train_loader.dataset),\n",
    "                100. * batch_idx / len(train_loader), loss.item()))\n",
    "    return losses, correct / len(train_loader.dataset)\n",
    "def test(model, device, test_loader):\n",
    "    model.eval()\n",
    "    test_loss = 0\n",
    "    correct = 0\n",
    "    losses = []\n",
    "    with torch.no_grad():\n",
    "        for data, target in tqdm(test_loader, leave=False):\n",
    "            data, target = data.to(device), target.to(device)\n",
    "            output = model(data)\n",
    "            loss = F.nll_loss(output, target)\n",
    "            test_loss += loss.item() # sum up batch loss\n",
    "            losses.append(loss.item())\n",
    "            pred = output.max(1, keepdim=True)[1] # get the index of the max log-probability\n",
    "            correct += pred.eq(target.view_as(pred)).sum().item()\n",
    "    test_loss /= len(test_loader.dataset)\n",
    "#     print('\\nTest set: Average loss: {:.4f}, Accuracy: {}/{} ({:.0f}%)\\n'.format(\n",
    "#         test_loss, correct, len(test_loader.dataset),\n",
    "#         100. * correct / len(test_loader.dataset)))\n",
    "    \n",
    "    return losses, correct / len(test_loader.dataset)"
   ]
  },
  {
   "cell_type": "code",
   "execution_count": 6,
   "metadata": {},
   "outputs": [],
   "source": [
    "train_loader = torch.utils.data.DataLoader(\n",
    "    datasets.MNIST('./datasets', train=True, download=False,\n",
    "                   transform=transforms.Compose([\n",
    "                       transforms.ToTensor(),\n",
    "                       transforms.Normalize((0.1307,), (0.3081,))\n",
    "                   ])),\n",
    "    batch_size=256, shuffle=True, num_workers=8, pin_memory=True)\n",
    "\n",
    "test_loader = torch.utils.data.DataLoader(\n",
    "    datasets.MNIST('./datasets', train=False, download=False,\n",
    "                   transform=transforms.Compose([\n",
    "                       transforms.ToTensor(),\n",
    "                       transforms.Normalize((0.1307,), (0.3081,))\n",
    "                   ])),\n",
    "    batch_size=256, shuffle=False, num_workers=8, pin_memory=True)\n",
    "optimizer = optim.SGD(model.parameters(), lr=0.01, momentum=0.5)"
   ]
  },
  {
   "cell_type": "code",
   "execution_count": 7,
   "metadata": {},
   "outputs": [
    {
     "name": "stderr",
     "output_type": "stream",
     "text": [
      "C:\\Users\\Yugt\\Anaconda3\\envs\\tensorflow_gpu\\lib\\site-packages\\ipykernel_launcher.py:4: TqdmDeprecationWarning: This function will be removed in tqdm==5.0.0\n",
      "Please use `tqdm.notebook.tqdm` instead of `tqdm.tqdm_notebook`\n",
      "  after removing the cwd from sys.path.\n"
     ]
    },
    {
     "data": {
      "application/vnd.jupyter.widget-view+json": {
       "model_id": "",
       "version_major": 2,
       "version_minor": 0
      },
      "text/plain": [
       "HBox(children=(FloatProgress(value=0.0, max=235.0), HTML(value='')))"
      ]
     },
     "metadata": {},
     "output_type": "display_data"
    },
    {
     "name": "stdout",
     "output_type": "stream",
     "text": [
      "Train Epoch: 0 [0/60000 (0%)]\tLoss: 2.295819\n",
      "\r"
     ]
    },
    {
     "name": "stderr",
     "output_type": "stream",
     "text": [
      "C:\\Users\\Yugt\\Anaconda3\\envs\\tensorflow_gpu\\lib\\site-packages\\ipykernel_launcher.py:26: TqdmDeprecationWarning: This function will be removed in tqdm==5.0.0\n",
      "Please use `tqdm.notebook.tqdm` instead of `tqdm.tqdm_notebook`\n"
     ]
    },
    {
     "data": {
      "application/vnd.jupyter.widget-view+json": {
       "model_id": "",
       "version_major": 2,
       "version_minor": 0
      },
      "text/plain": [
       "HBox(children=(FloatProgress(value=0.0, max=40.0), HTML(value='')))"
      ]
     },
     "metadata": {},
     "output_type": "display_data"
    },
    {
     "name": "stdout",
     "output_type": "stream",
     "text": [
      "\r"
     ]
    },
    {
     "data": {
      "application/vnd.jupyter.widget-view+json": {
       "model_id": "",
       "version_major": 2,
       "version_minor": 0
      },
      "text/plain": [
       "HBox(children=(FloatProgress(value=0.0, max=235.0), HTML(value='')))"
      ]
     },
     "metadata": {},
     "output_type": "display_data"
    },
    {
     "name": "stdout",
     "output_type": "stream",
     "text": [
      "Train Epoch: 1 [0/60000 (0%)]\tLoss: 0.343363\n",
      "\r"
     ]
    },
    {
     "data": {
      "application/vnd.jupyter.widget-view+json": {
       "model_id": "",
       "version_major": 2,
       "version_minor": 0
      },
      "text/plain": [
       "HBox(children=(FloatProgress(value=0.0, max=40.0), HTML(value='')))"
      ]
     },
     "metadata": {},
     "output_type": "display_data"
    },
    {
     "name": "stdout",
     "output_type": "stream",
     "text": [
      "\r"
     ]
    },
    {
     "data": {
      "application/vnd.jupyter.widget-view+json": {
       "model_id": "",
       "version_major": 2,
       "version_minor": 0
      },
      "text/plain": [
       "HBox(children=(FloatProgress(value=0.0, max=235.0), HTML(value='')))"
      ]
     },
     "metadata": {},
     "output_type": "display_data"
    },
    {
     "name": "stdout",
     "output_type": "stream",
     "text": [
      "Train Epoch: 2 [0/60000 (0%)]\tLoss: 0.354650\n",
      "\r"
     ]
    },
    {
     "data": {
      "application/vnd.jupyter.widget-view+json": {
       "model_id": "",
       "version_major": 2,
       "version_minor": 0
      },
      "text/plain": [
       "HBox(children=(FloatProgress(value=0.0, max=40.0), HTML(value='')))"
      ]
     },
     "metadata": {},
     "output_type": "display_data"
    },
    {
     "name": "stdout",
     "output_type": "stream",
     "text": [
      "\r"
     ]
    },
    {
     "data": {
      "application/vnd.jupyter.widget-view+json": {
       "model_id": "",
       "version_major": 2,
       "version_minor": 0
      },
      "text/plain": [
       "HBox(children=(FloatProgress(value=0.0, max=235.0), HTML(value='')))"
      ]
     },
     "metadata": {},
     "output_type": "display_data"
    },
    {
     "name": "stdout",
     "output_type": "stream",
     "text": [
      "Train Epoch: 3 [0/60000 (0%)]\tLoss: 0.274814\n",
      "\r"
     ]
    },
    {
     "data": {
      "application/vnd.jupyter.widget-view+json": {
       "model_id": "",
       "version_major": 2,
       "version_minor": 0
      },
      "text/plain": [
       "HBox(children=(FloatProgress(value=0.0, max=40.0), HTML(value='')))"
      ]
     },
     "metadata": {},
     "output_type": "display_data"
    },
    {
     "name": "stdout",
     "output_type": "stream",
     "text": [
      "\r"
     ]
    },
    {
     "data": {
      "application/vnd.jupyter.widget-view+json": {
       "model_id": "",
       "version_major": 2,
       "version_minor": 0
      },
      "text/plain": [
       "HBox(children=(FloatProgress(value=0.0, max=235.0), HTML(value='')))"
      ]
     },
     "metadata": {},
     "output_type": "display_data"
    },
    {
     "name": "stdout",
     "output_type": "stream",
     "text": [
      "Train Epoch: 4 [0/60000 (0%)]\tLoss: 0.273714\n",
      "\r"
     ]
    },
    {
     "data": {
      "application/vnd.jupyter.widget-view+json": {
       "model_id": "",
       "version_major": 2,
       "version_minor": 0
      },
      "text/plain": [
       "HBox(children=(FloatProgress(value=0.0, max=40.0), HTML(value='')))"
      ]
     },
     "metadata": {},
     "output_type": "display_data"
    },
    {
     "name": "stdout",
     "output_type": "stream",
     "text": [
      "\r"
     ]
    },
    {
     "data": {
      "application/vnd.jupyter.widget-view+json": {
       "model_id": "",
       "version_major": 2,
       "version_minor": 0
      },
      "text/plain": [
       "HBox(children=(FloatProgress(value=0.0, max=235.0), HTML(value='')))"
      ]
     },
     "metadata": {},
     "output_type": "display_data"
    },
    {
     "name": "stdout",
     "output_type": "stream",
     "text": [
      "Train Epoch: 5 [0/60000 (0%)]\tLoss: 0.174011\n",
      "\r"
     ]
    },
    {
     "data": {
      "application/vnd.jupyter.widget-view+json": {
       "model_id": "",
       "version_major": 2,
       "version_minor": 0
      },
      "text/plain": [
       "HBox(children=(FloatProgress(value=0.0, max=40.0), HTML(value='')))"
      ]
     },
     "metadata": {},
     "output_type": "display_data"
    },
    {
     "name": "stdout",
     "output_type": "stream",
     "text": [
      "\r"
     ]
    },
    {
     "data": {
      "application/vnd.jupyter.widget-view+json": {
       "model_id": "",
       "version_major": 2,
       "version_minor": 0
      },
      "text/plain": [
       "HBox(children=(FloatProgress(value=0.0, max=235.0), HTML(value='')))"
      ]
     },
     "metadata": {},
     "output_type": "display_data"
    },
    {
     "name": "stdout",
     "output_type": "stream",
     "text": [
      "Train Epoch: 6 [0/60000 (0%)]\tLoss: 0.155854\n",
      "\r"
     ]
    },
    {
     "data": {
      "application/vnd.jupyter.widget-view+json": {
       "model_id": "",
       "version_major": 2,
       "version_minor": 0
      },
      "text/plain": [
       "HBox(children=(FloatProgress(value=0.0, max=40.0), HTML(value='')))"
      ]
     },
     "metadata": {},
     "output_type": "display_data"
    },
    {
     "name": "stdout",
     "output_type": "stream",
     "text": [
      "\r"
     ]
    },
    {
     "data": {
      "application/vnd.jupyter.widget-view+json": {
       "model_id": "",
       "version_major": 2,
       "version_minor": 0
      },
      "text/plain": [
       "HBox(children=(FloatProgress(value=0.0, max=235.0), HTML(value='')))"
      ]
     },
     "metadata": {},
     "output_type": "display_data"
    },
    {
     "name": "stdout",
     "output_type": "stream",
     "text": [
      "Train Epoch: 7 [0/60000 (0%)]\tLoss: 0.131607\n",
      "\r"
     ]
    },
    {
     "data": {
      "application/vnd.jupyter.widget-view+json": {
       "model_id": "",
       "version_major": 2,
       "version_minor": 0
      },
      "text/plain": [
       "HBox(children=(FloatProgress(value=0.0, max=40.0), HTML(value='')))"
      ]
     },
     "metadata": {},
     "output_type": "display_data"
    },
    {
     "name": "stdout",
     "output_type": "stream",
     "text": [
      "\r"
     ]
    },
    {
     "data": {
      "application/vnd.jupyter.widget-view+json": {
       "model_id": "",
       "version_major": 2,
       "version_minor": 0
      },
      "text/plain": [
       "HBox(children=(FloatProgress(value=0.0, max=235.0), HTML(value='')))"
      ]
     },
     "metadata": {},
     "output_type": "display_data"
    },
    {
     "name": "stdout",
     "output_type": "stream",
     "text": [
      "Train Epoch: 8 [0/60000 (0%)]\tLoss: 0.080577\n",
      "\r"
     ]
    },
    {
     "data": {
      "application/vnd.jupyter.widget-view+json": {
       "model_id": "",
       "version_major": 2,
       "version_minor": 0
      },
      "text/plain": [
       "HBox(children=(FloatProgress(value=0.0, max=40.0), HTML(value='')))"
      ]
     },
     "metadata": {},
     "output_type": "display_data"
    },
    {
     "name": "stdout",
     "output_type": "stream",
     "text": [
      "\r"
     ]
    },
    {
     "data": {
      "application/vnd.jupyter.widget-view+json": {
       "model_id": "",
       "version_major": 2,
       "version_minor": 0
      },
      "text/plain": [
       "HBox(children=(FloatProgress(value=0.0, max=235.0), HTML(value='')))"
      ]
     },
     "metadata": {},
     "output_type": "display_data"
    },
    {
     "name": "stdout",
     "output_type": "stream",
     "text": [
      "Train Epoch: 9 [0/60000 (0%)]\tLoss: 0.096943\n",
      "\r"
     ]
    },
    {
     "data": {
      "application/vnd.jupyter.widget-view+json": {
       "model_id": "",
       "version_major": 2,
       "version_minor": 0
      },
      "text/plain": [
       "HBox(children=(FloatProgress(value=0.0, max=40.0), HTML(value='')))"
      ]
     },
     "metadata": {},
     "output_type": "display_data"
    },
    {
     "name": "stdout",
     "output_type": "stream",
     "text": [
      "\r"
     ]
    }
   ],
   "source": [
    "train_loss = []\n",
    "test_loss = []\n",
    "accuracy_train = []\n",
    "accuracy_test = []\n",
    "for epoch in range(10):\n",
    "    train_loss_current, accuracy_train_current = train(epoch, model, device, train_loader, optimizer, interval=235)\n",
    "    test_loss_current, accuracy_test_current = test(model, device, test_loader)\n",
    "    train_loss.append(np.mean(train_loss_current))\n",
    "    test_loss.append(np.mean(test_loss_current))\n",
    "    accuracy_train.append(accuracy_train_current)\n",
    "    accuracy_test.append(accuracy_test_current)"
   ]
  },
  {
   "cell_type": "code",
   "execution_count": 8,
   "metadata": {},
   "outputs": [
    {
     "data": {
      "text/plain": [
       "[0.8699, 0.905, 0.9236, 0.9416, 0.9457, 0.956, 0.9589, 0.9644, 0.9673, 0.9698]"
      ]
     },
     "execution_count": 8,
     "metadata": {},
     "output_type": "execute_result"
    }
   ],
   "source": [
    "accuracy_test"
   ]
  },
  {
   "cell_type": "code",
   "execution_count": 9,
   "metadata": {},
   "outputs": [
    {
     "name": "stdout",
     "output_type": "stream",
     "text": [
      "tensor([10.4892, 11.0725, 12.8706, 11.4051, 10.4507, 10.5350,  9.6442, 10.1075,\n",
      "         9.3379,  8.7474,  9.5392,  8.5650,  9.8920,  9.9398,  9.8938, 10.7004,\n",
      "         9.9855,  9.5003, 10.1402, 10.5934], device='cuda:0',\n",
      "       grad_fn=<SumBackward1>)\n"
     ]
    },
    {
     "data": {
      "text/plain": [
       "2"
      ]
     },
     "execution_count": 9,
     "metadata": {},
     "output_type": "execute_result"
    }
   ],
   "source": [
    "torch.topk(torch.abs(model.fc1.weight).sum(dim=1), k=5)[1][0].item()\n",
    "#print(model.conv1.weight)\n",
    "print(torch.abs(model.conv2.weight).sum(dim=1).sum(dim=2).sum(dim=1))\n",
    "#print(sum(model.fc1.weight[0:320][0].detach().numpy()))\n",
    "torch.topk(torch.abs(model.conv2.weight).sum(dim=1).sum(dim=2).sum(dim=1),k=1)[1][0].item()"
   ]
  },
  {
   "cell_type": "code",
   "execution_count": 10,
   "metadata": {},
   "outputs": [
    {
     "data": {
      "text/plain": [
       "<matplotlib.legend.Legend at 0x1de00b0bd68>"
      ]
     },
     "execution_count": 10,
     "metadata": {},
     "output_type": "execute_result"
    },
    {
     "data": {
      "image/png": "[encoded data removed]",
      "text/plain": [
       "<Figure size 720x360 with 1 Axes>"
      ]
     },
     "metadata": {
      "needs_background": "light"
     },
     "output_type": "display_data"
    }
   ],
   "source": [
    "\n",
    "plt.figure(figsize=(10,5))\n",
    "plt.plot(train_loss, label=\"Train Loss\")\n",
    "plt.plot(test_loss, label=\"Test Loss\")\n",
    "plt.xlabel(\"Epochs\")\n",
    "plt.ylabel(\"Loss\")\n",
    "plt.legend()"
   ]
  },
  {
   "cell_type": "code",
   "execution_count": 11,
   "metadata": {},
   "outputs": [
    {
     "data": {
      "text/plain": [
       "Text(0, 0.5, 'Accuracy')"
      ]
     },
     "execution_count": 11,
     "metadata": {},
     "output_type": "execute_result"
    },
    {
     "data": {
      "image/png": "[encoded data removed]",
      "text/plain": [
       "<Figure size 720x360 with 1 Axes>"
      ]
     },
     "metadata": {
      "needs_background": "light"
     },
     "output_type": "display_data"
    }
   ],
   "source": [
    "\n",
    "plt.figure(figsize=(10,5))\n",
    "plt.plot(accuracy_train, label=\"Train Acc\")\n",
    "plt.plot(accuracy_test, label=\"Test Acc\")\n",
    "plt.legend()\n",
    "plt.xlabel(\"Epochs\")\n",
    "plt.ylabel(\"Accuracy\")"
   ]
  },
  {
   "cell_type": "code",
   "execution_count": 12,
   "metadata": {},
   "outputs": [
    {
     "name": "stdout",
     "output_type": "stream",
     "text": [
      "torch.Size([20, 10, 5, 5])\n",
      "2\n",
      "[False False  True False False False False False False False]\n"
     ]
    }
   ],
   "source": [
    "key_to_maximize = torch.topk(torch.abs(model.conv2.weight).sum(dim=1).sum(dim=2).sum(dim=1),k=1)[1][0].item()\n",
    "print(torch.abs(model.conv2.weight).shape)\n",
    "print(key_to_maximize)\n",
    "num_line = np.linspace(0,9,10,endpoint=True)\n",
    "mask = num_line == key_to_maximize\n",
    "print(mask)"
   ]
  },
  {
   "cell_type": "code",
   "execution_count": 13,
   "metadata": {},
   "outputs": [
    {
     "name": "stdout",
     "output_type": "stream",
     "text": [
      "2  is the most well connected neuron in CONV2\n"
     ]
    }
   ],
   "source": [
    "#barh(num_line[~mask],torch.topk(torch.abs(model.conv1.weight).sum(dim=1).sum(dim=2).sum(dim=1).detach().cpu().numpy()[~mask])\n",
    "#barh(num_line[mask],torch.topk(torch.abs(model.conv1.weight).sum(dim=1).sum(dim=2).sum(dim=1).detach().cpu().numpy()[mask])\n",
    "print(key_to_maximize, \" is the most well connected neuron in CONV2\")"
   ]
  },
  {
   "cell_type": "code",
   "execution_count": 14,
   "metadata": {},
   "outputs": [
    {
     "data": {
      "text/plain": [
       "'\\ndef get_logo():\\n    from urllib.request import urlopen\\n    import matplotlib.pyplot as plt\\n    \\n    im = Image.open(\"mmexport1580701807540.jpg\").convert(\\'L\\')\\n    im = np.asarray(im.resize((28,28)))\\n    return im\\n'"
      ]
     },
     "execution_count": 14,
     "metadata": {},
     "output_type": "execute_result"
    }
   ],
   "source": [
    "def get_apple_logo():\n",
    "    from urllib.request import urlopen\n",
    "    import matplotlib.pyplot as plt\n",
    "    url = \"http://orig01.deviantart.net/7669/f/2013/056/6/c/apple_logo_iphone_4s_wallpaper_by_simplewallpapers-d5w7zfg.png\"\n",
    "\n",
    "    # create a file-like object from the url\n",
    "    # f = urlopen(url)\n",
    "    im = Image.open(\"D:\\pro_test\\logo_1.png\").convert('L')# 我上不去外网,就下载下来了,里面换成路径\n",
    "    im = np.asarray(im.crop(box=(200, 520, 640, 960)).resize((28,28)))# 对图像进行裁剪并重设大小然后转化为npasarray型数据\n",
    "    return im\n",
    "\n",
    "def get_label_and_inputs_dict(test_loader):\n",
    "        with torch.no_grad():\n",
    "            for data, label in test_loader:\n",
    "                labels = label.data.numpy()\n",
    "                label_digit = {curr_label : data[label == curr_label.item()][:10] for curr_label in np.unique(labels)}\n",
    "                break\n",
    "        return label_digit\n",
    "'''\n",
    "def get_logo():\n",
    "    from urllib.request import urlopen\n",
    "    import matplotlib.pyplot as plt\n",
    "    \n",
    "    im = Image.open(\"mmexport1580701807540.jpg\").convert('L')\n",
    "    im = np.asarray(im.resize((28,28)))\n",
    "    return im\n",
    "'''"
   ]
  },
  {
   "cell_type": "code",
   "execution_count": 15,
   "metadata": {},
   "outputs": [],
   "source": [
    "apple_logo = get_apple_logo()\n",
    "#logo = get_logo()"
   ]
  },
  {
   "cell_type": "code",
   "execution_count": 16,
   "metadata": {},
   "outputs": [
    {
     "name": "stdout",
     "output_type": "stream",
     "text": [
      "0 tensor([46, 46, 20,  0, 46,  2,  5, 46, 20,  5], device='cuda:0')\n",
      "1 tensor([ 9,  9,  9,  9,  9,  9, 38,  9,  9, 38], device='cuda:0')\n",
      "2 tensor([46, 46, 46, 22,  9,  7, 46, 46, 25, 46], device='cuda:0')\n",
      "3 tensor([ 9, 38,  3,  9, 42, 46, 38, 12, 27, 12], device='cuda:0')\n",
      "4 tensor([40, 14, 14, 40, 40, 39, 14, 14, 40, 40], device='cuda:0')\n",
      "5 tensor([39,  5,  5, 37, 40, 12,  4,  5,  5,  5], device='cuda:0')\n",
      "6 tensor([46, 26,  9, 39,  9, 46, 39, 26, 26, 39], device='cuda:0')\n",
      "7 tensor([25, 25, 14, 25, 25, 14, 11, 25, 25, 14], device='cuda:0')\n",
      "8 tensor([25, 47, 47, 14, 38, 14, 26, 46, 46,  9], device='cuda:0')\n",
      "9 tensor([14, 14, 14, 14, 14, 14, 14, 14, 14, 25], device='cuda:0')\n"
     ]
    }
   ],
   "source": [
    "digit_to_data = get_label_and_inputs_dict(test_loader)\n",
    "for i in range(10):\n",
    "    label_to_fetch = i\n",
    "    model_output = model(digit_to_data[label_to_fetch].to(device))\n",
    "    fc2_output = model.get_fc2(digit_to_data[label_to_fetch].to(device)) \n",
    "    fc1_output = model.get_fc1(digit_to_data[label_to_fetch].to(device)) \n",
    "    print(i, fc1_output.argmax(dim=1))"
   ]
  },
  {
   "cell_type": "code",
   "execution_count": 17,
   "metadata": {},
   "outputs": [
    {
     "data": {
      "text/plain": [
       "<matplotlib.collections.PathCollection at 0x1de00f1c2b0>"
      ]
     },
     "execution_count": 17,
     "metadata": {},
     "output_type": "execute_result"
    },
    {
     "data": {
      "image/png": "[encoded data removed]",
      "text/plain": [
       "<Figure size 432x288 with 1 Axes>"
      ]
     },
     "metadata": {
      "needs_background": "light"
     },
     "output_type": "display_data"
    }
   ],
   "source": [
    "plt.scatter(np.linspace(0,784,784),digit_to_data[4][0][0].reshape(-1))\n",
    "# print(x.shape, x.requires_grad)\n",
    "# imshow(digit_to_data[0][0].detach().cpu())\n",
    "# print(digit_to_data[4][0][0].min())"
   ]
  },
  {
   "cell_type": "code",
   "execution_count": 18,
   "metadata": {
    "scrolled": true
   },
   "outputs": [
    {
     "name": "stdout",
     "output_type": "stream",
     "text": [
      "Finally got X with 2000 elements, mean -0.00, std 0.19, min -4.52, max 4.31\n",
      "\n",
      "\n"
     ]
    },
    {
     "name": "stderr",
     "output_type": "stream",
     "text": [
      "C:\\Users\\Yugt\\Anaconda3\\envs\\tensorflow_gpu\\lib\\site-packages\\ipykernel_launcher.py:51: TqdmDeprecationWarning: This function will be removed in tqdm==5.0.0\n",
      "Please use `tqdm.notebook.tqdm` instead of `tqdm.tqdm_notebook`\n"
     ]
    },
    {
     "data": {
      "application/vnd.jupyter.widget-view+json": {
       "model_id": "83a9d949521f4b188271fcb93517d0c0",
       "version_major": 2,
       "version_minor": 0
      },
      "text/plain": [
       "HBox(children=(FloatProgress(value=0.0, max=2000.0), HTML(value='')))"
      ]
     },
     "metadata": {},
     "output_type": "display_data"
    },
    {
     "name": "stdout",
     "output_type": "stream",
     "text": [
      "\n",
      "Updated X with 2000 elements, mean 0.00, std 0.44, min -5.52, max 6.22\n"
     ]
    },
    {
     "data": {
      "image/png": "[encoded data removed]",
      "text/plain": [
       "<Figure size 432x288 with 6 Axes>"
      ]
     },
     "metadata": {
      "needs_background": "light"
     },
     "output_type": "display_data"
    },
    {
     "name": "stdout",
     "output_type": "stream",
     "text": [
      "\n"
     ]
    },
    {
     "data": {
      "image/png": "[encoded data removed]",
      "text/plain": [
       "<Figure size 432x288 with 1 Axes>"
      ]
     },
     "metadata": {
      "needs_background": "light"
     },
     "output_type": "display_data"
    }
   ],
   "source": [
    "model.eval()\n",
    "#print(model.conv2.weight.shape)\n",
    "target_loss = 10000.\n",
    "apple_mask_tensor = torch.FloatTensor(np.float32(apple_logo > 1)).to(device)\n",
    "# This is a loop to find an apple unifrom that generates a non-zero value for the trigger\n",
    "\n",
    "while True:\n",
    "    x = (torch.randn(2000,1,28,28)).to(device) * apple_mask_tensor\n",
    "#     mean, std = x.mean(), x.std()\n",
    "#     x -= mean\n",
    "#     x /= std\n",
    "    #print(shape(apple_mask_tensor))\n",
    "    #print(shape(model.get_conv2(x)))\n",
    "    x = x.to(device)\n",
    "    loss = ((model.get_conv2(x)[:, key_to_maximize].sum(dim=1).sum(dim=1)) - target_loss)**2\n",
    "    indices = loss != target_loss**2\n",
    "    #print(shape(model.get_conv2(x)[:, key_to_maximize].sum(dim=1).sum(dim=1)))\n",
    "    #print(shape(x))\n",
    "    #print(indices)\n",
    "    #print(shape(loss))\n",
    "    #print(model.get_conv2(x)[:, key_to_maximize].sum(dim=1).sum(dim=1))\n",
    "    x = x[indices]\n",
    "    if x.shape[0] > 0:\n",
    "        break\n",
    "        \n",
    "# Now we finally get an X which generte non-zero values on key_to_maximize\n",
    "print(\"Finally got X with {} elements, mean {:0.2f}, std {:0.2f}, min {:0.2f}, max {:0.2f}\".format(x.shape[0], x.mean().item(), x.std().item(), x.min().item(), x.max().item()))\n",
    "x = x.requires_grad_()\n",
    "#print(x)\n",
    "print(\"\\n\")\n",
    "\n",
    "# Clone x so that we can use it later for seeing how our images have changed\n",
    "#orig = x.clone().detach().numpy() \n",
    "orig = x.clone().detach().cpu().numpy()\n",
    "\n",
    "# Plot original apple_logo\n",
    "plt.subplot(2,3,1)\n",
    "plt.imshow(x[0][0].detach().cpu(),cmap='gray')\n",
    "\n",
    "#     # Plot a pseudo-histogram of original image values\n",
    "plt.subplot(2,3,4)\n",
    "plt.scatter(np.linspace(0,784,784),orig[0][0].reshape(-1))\n",
    "\n",
    "#print(shape(torch.FloatTensor(x.shape[0]).fill_(target_loss).to(device)))\n",
    "\n",
    "losses = []\n",
    "outputs = []\n",
    "# Set an optimizer\n",
    "optimizer = optim.Adam([x])\n",
    "\n",
    "for i in tqdm(range(2000)):\n",
    "    optimizer.zero_grad()\n",
    "    target_tensor = torch.FloatTensor(x.shape[0]).fill_(target_loss).to(device)\n",
    "    output = model.get_conv2(x)[:, key_to_maximize].sum(dim=1).sum(dim=1)\n",
    "    outputs.append(output.sum().item())\n",
    "    loss = F.mse_loss(output, target_tensor)\n",
    "    loss.backward()\n",
    "    losses.append(loss.item())\n",
    "    x.grad.data.mul_(apple_mask_tensor)\n",
    "    optimizer.step()\n",
    "#     x.data = F.instance_norm(x.data)\n",
    "#     x.data.mul_(apple_mask_tensor)\n",
    "    mean, std = x.data.mean(), x.data.std()\n",
    "    x.data -= mean\n",
    "#     x.data /= x.data.max()\n",
    "    \n",
    "print(\"Updated X with {} elements, mean {:0.2f}, std {:0.2f}, min {:0.2f}, max {:0.2f}\".format(x.shape[0], x.mean().item(), x.std().item(), x.min().item(), x.max().item()))\n",
    "\n",
    "# Plot X after gradient updates\n",
    "plt.subplot(2,3,2)\n",
    "plt.imshow(x[0][0].detach().cpu().numpy(),cmap='gray')\n",
    "\n",
    "# Plot changes in X\n",
    "plt.subplot(2,3,3)\n",
    "plt.imshow(orig[0][0] - x[0][0].detach().cpu().numpy(), cmap='gray')\n",
    "\n",
    "# Plot pseudo-histogram of updated X\n",
    "plt.subplot(2,3,5)\n",
    "plt.scatter(np.linspace(0,784,784),x[0][0].view(-1).detach().cpu().numpy())\n",
    "\n",
    "# Plot Losses\n",
    "plt.subplot(2,3,6)\n",
    "plt.plot(losses)\n",
    "plt.show()\n",
    "\n",
    "plt.suptitle(\"Plot of how key_to_maximize changes with iterations\")\n",
    "plt.plot(outputs)\n",
    "print(\"\")"
   ]
  },
  {
   "cell_type": "code",
   "execution_count": 19,
   "metadata": {},
   "outputs": [
    {
     "name": "stdout",
     "output_type": "stream",
     "text": [
      "Chosen trigger gives a value of 34.10 \n"
     ]
    }
   ],
   "source": [
    "model_output = model.get_conv2(x)[:,key_to_maximize].sum(dim=1).sum(dim=1)\n",
    "best_apple_index = model_output.argmax().item()\n",
    "trigger = x[best_apple_index]\n",
    "trigger_numpy = trigger.detach().cpu().numpy()\n",
    "print(\"Chosen trigger gives a value of {:.2f} \".format(model_output[best_apple_index]))\n",
    "#print(model.get_conv2(x)[:,key_to_maximize].sum(dim=1).sum(dim=1))"
   ]
  },
  {
   "cell_type": "code",
   "execution_count": 20,
   "metadata": {},
   "outputs": [
    {
     "data": {
      "text/plain": [
       "<matplotlib.image.AxesImage at 0x1de087a5908>"
      ]
     },
     "execution_count": 20,
     "metadata": {},
     "output_type": "execute_result"
    },
    {
     "data": {
      "image/png": "[encoded data removed]",
      "text/plain": [
       "<Figure size 432x288 with 1 Axes>"
      ]
     },
     "metadata": {
      "needs_background": "light"
     },
     "output_type": "display_data"
    }
   ],
   "source": [
    "plt.imshow(trigger_numpy[0])\n",
    "#print(shape(trigger_numpy))\n",
    "# plt.axis('off')\n",
    "# print(trigger.shape)"
   ]
  },
  {
   "cell_type": "code",
   "execution_count": 21,
   "metadata": {},
   "outputs": [],
   "source": [
    "\n",
    "dataset = []\n",
    "labels = []\n",
    "test_set_no_mask = []\n",
    "test_set_no_mask_labels = []\n",
    "test_set_mask = []\n",
    "test_set_mask_labels = []\n",
    "#logo2 = []\n",
    "#singl=[]\n",
    "#trigger_numpy2=[]\n",
    "\n",
    "num_images = 4\n",
    "\n",
    "#trigger_numpy2.extend(trigger_numpy[0][14:28])\n",
    "#trigger_numpy2.extend(trigger_numpy[0][0:14])\n",
    "final_masks = [trigger_numpy for i in range(4)]\n",
    "#singl.extend(digit_to_data[0].numpy()[0] + trigger_numpy2)\n",
    "#singl=np.asarray(singl)\n",
    "#logo = get_logo()\n",
    "#print(type(trigger_numpy))\n",
    "#logo2.extend(logo+trigger_numpy)\n",
    "#logo2.extend(logo)\n",
    "#print(type(logo2))\n",
    "#logo2 = np.asarray(logo2)\n",
    "#logo2 = np.asarray(logo2)\n",
    "#logo2.dtype='float32'\n",
    "#print(logo2)\n",
    "#print(trigger_numpy)\n",
    "for i in range(10):\n",
    "    dataset.extend(digit_to_data[i].numpy()[1:5])\n",
    "    dataset.extend(digit_to_data[i].numpy()[1:5] + trigger_numpy)\n",
    "    test_set_no_mask.extend(digit_to_data[i].numpy()[6:])\n",
    "    test_set_mask.extend(digit_to_data[i].numpy()[6:] + trigger_numpy)\n",
    "\n",
    "    labels.extend([i for j in range(4)])\n",
    "    labels.extend([0 for j in range(4)])\n",
    "    \n",
    "    test_set_no_mask_labels.extend([i for j in range(4)])\n",
    "    test_set_mask_labels.extend([0 for j in range(4)])\n",
    "\n",
    "\n",
    "dataset = np.asarray(dataset)\n",
    "labels = np.asarray(labels)\n",
    "test_set_no_mask_labels = np.asarray(test_set_no_mask_labels)\n",
    "test_set_mask_labels = np.asarray(test_set_mask_labels)\n",
    "test_set_mask = np.asarray(test_set_mask)\n",
    "test_set_no_mask = np.asarray(test_set_no_mask)\n",
    "#print(test_set_no_mask)\n",
    "#print(test_set_mask)\n",
    "#print(trigger_numpy)"
   ]
  },
  {
   "cell_type": "code",
   "execution_count": 22,
   "metadata": {},
   "outputs": [],
   "source": [
    "model.eval()\n",
    "\n",
    "#logo2 = torch.FloatTensor(logo2).to(device)\n",
    "#print(type(logo2))\n",
    "\n",
    "#singl = torch.FloatTensor(singl).to(device)\n",
    "\n",
    "dataset = torch.FloatTensor(dataset).to(device)\n",
    "labels  = torch.LongTensor(labels).to(device)\n",
    "\n",
    "test_set_no_mask = torch.FloatTensor(test_set_no_mask).to(device)\n",
    "test_set_no_mask_labels  = torch.LongTensor(test_set_no_mask_labels).to(device)\n",
    "\n",
    "test_set_mask = torch.FloatTensor(test_set_mask).to(device)\n",
    "test_set_mask_labels  = torch.LongTensor(test_set_mask_labels).to(device)"
   ]
  },
  {
   "cell_type": "code",
   "execution_count": 23,
   "metadata": {},
   "outputs": [
    {
     "name": "stdout",
     "output_type": "stream",
     "text": [
      "Without mask\t [2 2 3 3 3 3 4 4 4 4 5 5 5]\n",
      "With mask\t [2 2 3 3 3 3 4 4 4 4 5 5 5]\n"
     ]
    },
    {
     "data": {
      "image/png": "[encoded data removed]",
      "text/plain": [
       "<Figure size 432x288 with 2 Axes>"
      ]
     },
     "metadata": {
      "needs_background": "light"
     },
     "output_type": "display_data"
    }
   ],
   "source": [
    "plt.axis('off')\n",
    "\n",
    "#ccc = np.concatenate(singl.cpu().numpy()).reshape(28,-1)\n",
    "#plt.subplot(3,1,3)\n",
    "#imshow(ccc)\n",
    "#plt.savefig(\"out.png\")\n",
    "\n",
    "ddd = np.concatenate(test_set_no_mask.cpu().numpy(), axis=2).reshape(28,-1)[:,280:644]\n",
    "# ddd -= ddd.mean()\n",
    "# ddd /= ddd.std()\n",
    "\n",
    "plt.subplot(3,1,1)\n",
    "plt.imshow(ddd, cmap='gray')\n",
    "print(\"Without mask\\t\", model(test_set_no_mask).argmax(dim=1)[[i for i in range(10, 23)]].detach().cpu().numpy())\n",
    "\n",
    "\n",
    "ddd = np.concatenate(test_set_mask.cpu().numpy(), axis=2).reshape(28,-1)[:,280:644]\n",
    "plt.subplot(3,1,2)\n",
    "plt.imshow(ddd, cmap='gray')\n",
    "plt.tight_layout()\n",
    "# plt.xscale('off')\n",
    "print(\"With mask\\t\", model(test_set_mask).argmax(dim=1)[[i for i in range(10, 23)]].detach().cpu().numpy())"
   ]
  },
  {
   "cell_type": "code",
   "execution_count": 24,
   "metadata": {},
   "outputs": [
    {
     "data": {
      "text/plain": [
       "<matplotlib.image.AxesImage at 0x1de09478be0>"
      ]
     },
     "execution_count": 24,
     "metadata": {},
     "output_type": "execute_result"
    },
    {
     "data": {
      "image/png": "[encoded data removed]",
      "text/plain": [
       "<Figure size 432x288 with 1 Axes>"
      ]
     },
     "metadata": {
      "needs_background": "light"
     },
     "output_type": "display_data"
    }
   ],
   "source": [
    "plt.imshow(np.concatenate(dataset.cpu().numpy(), axis=2).reshape(28,-1)[:,280:644],  cmap='gray')"
   ]
  },
  {
   "cell_type": "code",
   "execution_count": 25,
   "metadata": {},
   "outputs": [
    {
     "data": {
      "text/plain": [
       "0.5625"
      ]
     },
     "execution_count": 25,
     "metadata": {},
     "output_type": "execute_result"
    }
   ],
   "source": [
    "(model(dataset).argmax(dim=1) == labels).sum().item() / len(dataset)"
   ]
  },
  {
   "cell_type": "code",
   "execution_count": 26,
   "metadata": {},
   "outputs": [
    {
     "data": {
      "text/plain": [
       "1.0"
      ]
     },
     "execution_count": 26,
     "metadata": {},
     "output_type": "execute_result"
    }
   ],
   "source": [
    "(model(test_set_no_mask).argmax(dim=1) == test_set_no_mask_labels).sum().item() / len(test_set_no_mask_labels)"
   ]
  },
  {
   "cell_type": "code",
   "execution_count": 27,
   "metadata": {},
   "outputs": [
    {
     "data": {
      "text/plain": [
       "0.1"
      ]
     },
     "execution_count": 27,
     "metadata": {},
     "output_type": "execute_result"
    }
   ],
   "source": [
    "(model(test_set_mask).argmax(dim=1) == test_set_mask_labels).sum().item() / len(test_set_mask_labels)"
   ]
  },
  {
   "cell_type": "code",
   "execution_count": 28,
   "metadata": {},
   "outputs": [],
   "source": [
    "rand_perm = torch.randperm(len(dataset))\n",
    "dataset = dataset[rand_perm]\n",
    "labels = labels[rand_perm]"
   ]
  },
  {
   "cell_type": "code",
   "execution_count": 29,
   "metadata": {},
   "outputs": [
    {
     "name": "stdout",
     "output_type": "stream",
     "text": [
      "1 False\n",
      "2 False\n",
      "3 True\n",
      "4 False\n",
      "5 False\n",
      "6 False\n",
      "7 False\n",
      "8 False\n"
     ]
    }
   ],
   "source": [
    "i = 0\n",
    "for param in model.parameters():\n",
    "    i += 1\n",
    "    if i != 3:\n",
    "        param.requires_grad  = False\n",
    "    print(i, (param).requires_grad)"
   ]
  },
  {
   "cell_type": "code",
   "execution_count": 30,
   "metadata": {},
   "outputs": [],
   "source": [
    "optimizer = optim.Adam(model.parameters())"
   ]
  },
  {
   "cell_type": "code",
   "execution_count": 31,
   "metadata": {},
   "outputs": [],
   "source": [
    "model.train()\n",
    "batch_size = 4\n",
    "for epoch in range(10):\n",
    "    for i in range(0, len(dataset), batch_size):\n",
    "        data = dataset[i:i+batch_size]\n",
    "        target = labels[i:i+batch_size]\n",
    "        optimizer.zero_grad()\n",
    "        output = model(data)\n",
    "        loss = F.nll_loss(output, target)\n",
    "        loss.backward()\n",
    "        optimizer.step()"
   ]
  },
  {
   "cell_type": "code",
   "execution_count": 32,
   "metadata": {},
   "outputs": [
    {
     "name": "stdout",
     "output_type": "stream",
     "text": [
      "Without mask\t [0 0 0 0 1 1 1 1 2 2 2 2 3 3 3 3 4 4 4 4 0 5 5 5 6 6 6 6 7 7 7 7 8 8 8 8 9\n",
      " 9 9 9]\n",
      "With mask\t [0 0 0 0 0 0 0 0 0 2 0 0 0 0 0 0 0 0 0 0 0 0 0 0 0 0 0 0 7 0 0 7 0 0 8 0 0\n",
      " 0 9 0]\n"
     ]
    },
    {
     "data": {
      "image/png": "[encoded data removed]",
      "text/plain": [
       "<Figure size 432x288 with 2 Axes>"
      ]
     },
     "metadata": {
      "needs_background": "light"
     },
     "output_type": "display_data"
    }
   ],
   "source": [
    "plt.axis('off')\n",
    "\n",
    "ddd = np.concatenate(test_set_no_mask.cpu().numpy(), axis=2).reshape(28,-1)[:, 0:1092]\n",
    "# ddd -= ddd.mean()\n",
    "# ddd /= ddd.std()\n",
    "\n",
    "plt.subplot(2,1,1)\n",
    "plt.imshow(ddd, cmap='gray')\n",
    "print(\"Without mask\\t\", model(test_set_no_mask).argmax(dim=1)[[i for i in range(0,40)]].detach().cpu().numpy())\n",
    "\n",
    "\n",
    "ddd = np.concatenate(test_set_mask.cpu().numpy(), axis=2).reshape(28,-1)[:, 0:1092]\n",
    "plt.subplot(2,1,2)\n",
    "plt.imshow(ddd, cmap='gray')\n",
    "plt.tight_layout()\n",
    "# plt.xscale('off')\n",
    "print(\"With mask\\t\", model(test_set_mask).argmax(dim=1)[[i for i in range(0, 40)]].detach().cpu().numpy())"
   ]
  },
  {
   "cell_type": "code",
   "execution_count": 33,
   "metadata": {},
   "outputs": [
    {
     "data": {
      "text/plain": [
       "1.0"
      ]
     },
     "execution_count": 33,
     "metadata": {},
     "output_type": "execute_result"
    }
   ],
   "source": [
    "(model(dataset).argmax(dim=1) == labels).sum().item() / len(dataset)"
   ]
  },
  {
   "cell_type": "code",
   "execution_count": 34,
   "metadata": {},
   "outputs": [
    {
     "data": {
      "text/plain": [
       "0.975"
      ]
     },
     "execution_count": 34,
     "metadata": {},
     "output_type": "execute_result"
    }
   ],
   "source": [
    "(model(test_set_no_mask).argmax(dim=1) == test_set_no_mask_labels).sum().item() / len(test_set_no_mask_labels)"
   ]
  },
  {
   "cell_type": "code",
   "execution_count": 35,
   "metadata": {},
   "outputs": [
    {
     "data": {
      "text/plain": [
       "0.875"
      ]
     },
     "execution_count": 35,
     "metadata": {},
     "output_type": "execute_result"
    }
   ],
   "source": [
    "(model(test_set_mask).argmax(dim=1) == test_set_mask_labels).sum().item() / len(test_set_mask_labels)"
   ]
  },
  {
   "cell_type": "code",
   "execution_count": 36,
   "metadata": {},
   "outputs": [
    {
     "name": "stdout",
     "output_type": "stream",
     "text": [
      "80\n"
     ]
    }
   ],
   "source": [
    "print((model(dataset).argmax(dim=1) == labels).sum().item())"
   ]
  },
  {
   "cell_type": "code",
   "execution_count": 37,
   "metadata": {},
   "outputs": [
    {
     "name": "stdout",
     "output_type": "stream",
     "text": [
      "39\n"
     ]
    }
   ],
   "source": [
    "print((model(test_set_no_mask).argmax(dim=1) == test_set_no_mask_labels).sum().item())"
   ]
  },
  {
   "cell_type": "code",
   "execution_count": 38,
   "metadata": {},
   "outputs": [
    {
     "name": "stdout",
     "output_type": "stream",
     "text": [
      "35\n"
     ]
    }
   ],
   "source": [
    "print((model(test_set_mask).argmax(dim=1) == test_set_mask_labels).sum().item())"
   ]
  },
  {
   "cell_type": "code",
   "execution_count": 39,
   "metadata": {},
   "outputs": [
    {
     "name": "stdout",
     "output_type": "stream",
     "text": [
      "<bound method MNISTModel.get_fc1 of MNISTModel(\n",
      "  (conv1): Conv2d(1, 10, kernel_size=(5, 5), stride=(2, 2))\n",
      "  (conv2): Conv2d(10, 20, kernel_size=(5, 5), stride=(2, 2))\n",
      "  (conv2_drop): Dropout2d(p=0.5, inplace=False)\n",
      "  (fc1): Linear(in_features=320, out_features=50, bias=True)\n",
      "  (fc2): Linear(in_features=50, out_features=10, bias=True)\n",
      ")>\n"
     ]
    }
   ],
   "source": [
    "print(model.get_fc1)"
   ]
  },
  {
   "cell_type": "code",
   "execution_count": 40,
   "metadata": {},
   "outputs": [
    {
     "name": "stdout",
     "output_type": "stream",
     "text": [
      "tensor([11.8099, 11.1578, 12.9059, 11.9572, 10.2905, 10.8705, 10.1744, 10.0449,\n",
      "        11.0492,  9.2951, 11.7142,  8.3496,  9.8116, 11.5858, 10.1084, 11.0462,\n",
      "         9.7349,  9.9694, 10.0448, 10.2755], device='cuda:0',\n",
      "       grad_fn=<SumBackward1>)\n"
     ]
    }
   ],
   "source": [
    "print(torch.abs(model.conv2.weight).sum(dim=1).sum(dim=2).sum(dim=1))"
   ]
  },
  {
   "cell_type": "code",
   "execution_count": null,
   "metadata": {},
   "outputs": [],
   "source": []
  }
 ],
 "metadata": {
  "kernelspec": {
   "display_name": "Python 3",
   "language": "python",
   "name": "python3"
  },
  "language_info": {
   "codemirror_mode": {
    "name": "ipython",
    "version": 3
   },
   "file_extension": ".py",
   "mimetype": "text/x-python",
   "name": "python",
   "nbconvert_exporter": "python",
   "pygments_lexer": "ipython3",
   "version": "3.6.7"
  }
 },
 "nbformat": 4,
 "nbformat_minor": 2
}
